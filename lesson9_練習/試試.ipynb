{
 "cells": [
  {
   "cell_type": "code",
   "execution_count": 18,
   "metadata": {},
   "outputs": [],
   "source": [
    "'''\n",
    "module名稱:health.py\n",
    "\n",
    "class名稱:BMI\n",
    "    property:name\n",
    "    property:height\n",
    "    property:weight\n",
    "    method:bmi()\n",
    "    method:status()\n",
    "\n",
    "主程式index.py\n",
    "\n",
    "from health import BMI\n",
    "\n",
    "'''\n",
    "class BMI():\n",
    "    def __init__(self,name:str,height:int,weight:int):\n",
    "        self.__name = name\n",
    "        self.__height = height\n",
    "        self.__weight = weight\n",
    "    @property\n",
    "    def name(self)->str:\n",
    "        return self.name\n",
    "    @property\n",
    "    def height(self)->int:\n",
    "        return self.height\n",
    "    @property\n",
    "    def weight(self)->int:\n",
    "        return self.weight\n",
    "\n",
    "    @classmethod\n",
    "    def cal_bmi(cls,height:int, weight:int)->float:\n",
    "        bmi = weight / (height / 100) ** 2\n",
    "        return bmi\n",
    "\n",
    "    @classmethod\n",
    "    def get_status(cls,bmi:float)->str:\n",
    "        if bmi < 18.5:\n",
    "            status = \"過輕\"\n",
    "        elif bmi < 24:\n",
    "            status = \"正常\"\n",
    "        elif bmi < 27:\n",
    "            status = \"過重\"\n",
    "        elif bmi < 30:\n",
    "            status = \"輕度肥胖\"\n",
    "        elif bmi < 35:\n",
    "            status = \"中度肥胖\"\n",
    "        else:\n",
    "            status = \"重度肥胖\"\n",
    "        return status\n",
    "\n",
    "\n"
   ]
  },
  {
   "cell_type": "code",
   "execution_count": 25,
   "metadata": {},
   "outputs": [
    {
     "name": "stdout",
     "output_type": "stream",
     "text": [
      "請輸入您的姓名:charly\n",
      "請輸入您的身高(cm):170\n",
      "請輸入您的體重(kg):57\n",
      "======================\n",
      "您的姓名是:charly\n",
      "您的BMI值:19.72\n",
      "您的體重:正常\n"
     ]
    }
   ],
   "source": [
    "import pyinputplus as pypi\n",
    "#from health import BMI\n",
    "\n",
    "def main()->None:\n",
    "    name = pypi.inputStr(\"請輸入您的姓名:\")\n",
    "    print(name)\n",
    "    height = pypi.inputInt(\"請輸入您的身高(cm):\",min=1)\n",
    "    print(height)\n",
    "    weight = pypi.inputInt(\"請輸入您的體重(kg):\",min=1)\n",
    "    print(weight)\n",
    "\n",
    "    bmi = BMI.cal_bmi(height, weight)\n",
    "    status = BMI.get_status(bmi)\n",
    "\n",
    "    print(\"======================\")\n",
    "    print(f\"您的姓名是:{name}\")\n",
    "    print(f\"您的BMI值:{round(bmi,2)}\")\n",
    "    print(f\"您的體重:{status}\")\n",
    "\n",
    "if __name__ == '__main__':\n",
    "    main()\n"
   ]
  }
 ],
 "metadata": {
  "kernelspec": {
   "display_name": "Python 3",
   "language": "python",
   "name": "python3"
  },
  "language_info": {
   "codemirror_mode": {
    "name": "ipython",
    "version": 3
   },
   "file_extension": ".py",
   "mimetype": "text/x-python",
   "name": "python",
   "nbconvert_exporter": "python",
   "pygments_lexer": "ipython3",
   "version": "3.10.14"
  }
 },
 "nbformat": 4,
 "nbformat_minor": 2
}
