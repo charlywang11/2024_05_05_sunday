{
 "cells": [
  {
   "cell_type": "code",
   "execution_count": null,
   "metadata": {},
   "outputs": [],
   "source": [
    "'''\n",
    "放資料的檔案:\n",
    "    csv  -> 純文字檔，簡單的表格資料 \n",
    "    json -> 純文字檔，複雜的資料結構(一般放在網站上)\n",
    "    xlsx -> excel檔\n",
    "'''"
   ]
  }
 ],
 "metadata": {
  "language_info": {
   "name": "python"
  }
 },
 "nbformat": 4,
 "nbformat_minor": 2
}
