{
 "cells": [
  {
   "cell_type": "code",
   "execution_count": null,
   "metadata": {},
   "outputs": [],
   "source": [
    "'''\n",
    "class TextIOWrapper\n",
    "    property    #檢查是否關閉\n",
    "        closed\n",
    "    method      #關閉\n",
    "        close()\n",
    "        read()\n",
    "file\n",
    "    TextIOWrapper實體\n",
    "        attribute(屬性)\n",
    "        property(屬性)\n",
    "        method(方法)\n",
    "'''\n",
    "'''\n",
    "with...as   實體名稱語法,會自動close()\n",
    "\n",
    "'''\n",
    "'''\n",
    "class str\n",
    "    attribute(屬性)\n",
    "    property(屬性)\n",
    "     method(方法)\n",
    "'''"
   ]
  },
  {
   "cell_type": "code",
   "execution_count": 12,
   "metadata": {},
   "outputs": [
    {
     "name": "stdout",
     "output_type": "stream",
     "text": [
      "False\n"
     ]
    }
   ],
   "source": [
    "file = open(\"names.txt\",encoding='utf-8')\n",
    "print(file.closed)\n",
    "file.close()\n"
   ]
  },
  {
   "cell_type": "code",
   "execution_count": null,
   "metadata": {},
   "outputs": [],
   "source": [
    "with open(\"names.txt\",encoding='utf-8') as file:\n",
    "    content:str = file.read()\n",
    "    \n",
    "names:list[str] = content.split()\n",
    "num:int = len(names)\n",
    "print(num)\n",
    "print(names[0:5])\n",
    "print(names[-5:])\n",
    "for name in names:\n",
    "    print(name)"
   ]
  },
  {
   "cell_type": "code",
   "execution_count": 24,
   "metadata": {},
   "outputs": [
    {
     "data": {
      "text/plain": [
       "['游詩亞', '陳逸凡', '林佳慧']"
      ]
     },
     "execution_count": 24,
     "metadata": {},
     "output_type": "execute_result"
    }
   ],
   "source": [
    "from random import choices\n",
    "\n",
    "choices(names,k=3)"
   ]
  }
 ],
 "metadata": {
  "kernelspec": {
   "display_name": "Python 3",
   "language": "python",
   "name": "python3"
  },
  "language_info": {
   "codemirror_mode": {
    "name": "ipython",
    "version": 3
   },
   "file_extension": ".py",
   "mimetype": "text/x-python",
   "name": "python",
   "nbconvert_exporter": "python",
   "pygments_lexer": "ipython3",
   "version": "3.10.14"
  }
 },
 "nbformat": 4,
 "nbformat_minor": 2
}
