{
 "cells": [
  {
   "cell_type": "code",
   "execution_count": 3,
   "metadata": {},
   "outputs": [
    {
     "name": "stdout",
     "output_type": "stream",
     "text": [
      "您的姓名是:Charly, 身高(cm):170.0, 體重(kg):57.0\n",
      "您的BMI值是:19.72\n"
     ]
    }
   ],
   "source": [
    "#練習:計算BMI值\n",
    "\n",
    "name = input(\"請輸入您的姓名\")\n",
    "height = float(input(\"請輸入您的身高(cm)\"))\n",
    "weight = float(input(\"請輸入您的體重(kg)\"))\n",
    "\n",
    "BMI = round(weight / (height/100) **2, ndigits=2)\n",
    "\n",
    "print(f\"您的姓名是:{name}, 身高(cm):{height}, 體重(kg):{weight}\")\n",
    "print(f\"您的BMI值是:{BMI}\")\n"
   ]
  }
 ],
 "metadata": {
  "kernelspec": {
   "display_name": "Python 3",
   "language": "python",
   "name": "python3"
  },
  "language_info": {
   "codemirror_mode": {
    "name": "ipython",
    "version": 3
   },
   "file_extension": ".py",
   "mimetype": "text/x-python",
   "name": "python",
   "nbconvert_exporter": "python",
   "pygments_lexer": "ipython3",
   "version": "3.10.14"
  }
 },
 "nbformat": 4,
 "nbformat_minor": 2
}
