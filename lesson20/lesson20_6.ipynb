{
 "cells": [
  {
   "cell_type": "code",
   "execution_count": 1,
   "metadata": {},
   "outputs": [
    {
     "data": {
      "text/plain": [
       "日期          車站名稱  人數  \n",
       "2019-04-23  基隆    進站人數    8442\n",
       "                  出站人數    7743\n",
       "            鎮安    進站人數      15\n",
       "                  出站人數      14\n",
       "            林邊    進站人數     368\n",
       "                          ... \n",
       "2023-12-31  花壇    出站人數    1532\n",
       "            潭子    進站人數    3517\n",
       "                  出站人數    3091\n",
       "            瑞穗    進站人數     811\n",
       "                  出站人數    1053\n",
       "Length: 813522, dtype: int64"
      ]
     },
     "execution_count": 1,
     "metadata": {},
     "output_type": "execute_result"
    }
   ],
   "source": [
    "import pandas as pd\n",
    "df1 = pd.read_csv('2019~2023進出站人口數.csv',index_col='日期',usecols=['日期','車站名稱','進站人數','出站人數'],parse_dates=True)\n",
    "df2 = df1.reset_index().set_index(keys=['日期','車站名稱'])\n",
    "df2.columns.name = \"人數\"\n",
    "s1 = df2.stack(level='人數')\n",
    "s1"
   ]
  },
  {
   "cell_type": "code",
   "execution_count": 2,
   "metadata": {},
   "outputs": [
    {
     "data": {
      "text/plain": [
       "0         2019\n",
       "1         2019\n",
       "2         2019\n",
       "3         2019\n",
       "4         2019\n",
       "          ... \n",
       "813517    2023\n",
       "813518    2023\n",
       "813519    2023\n",
       "813520    2023\n",
       "813521    2023\n",
       "Name: 日期, Length: 813522, dtype: int32"
      ]
     },
     "execution_count": 2,
     "metadata": {},
     "output_type": "execute_result"
    }
   ],
   "source": [
    "df3 = s1.reset_index()\n",
    "yaer_series = s1.reset_index()['日期'].dt.year\n",
    "yaer_series"
   ]
  },
  {
   "cell_type": "code",
   "execution_count": 3,
   "metadata": {},
   "outputs": [
    {
     "data": {
      "text/plain": [
       "2019    332719042\n",
       "2020    416560022\n",
       "2021    318649074\n",
       "2022    350719246\n",
       "2023    449060964\n",
       "dtype: int64"
      ]
     },
     "execution_count": 3,
     "metadata": {},
     "output_type": "execute_result"
    }
   ],
   "source": [
    "s1.groupby(by=yaer_series.values).sum()"
   ]
  },
  {
   "cell_type": "code",
   "execution_count": 8,
   "metadata": {},
   "outputs": [
    {
     "data": {
      "text/html": [
       "<div>\n",
       "<style scoped>\n",
       "    .dataframe tbody tr th:only-of-type {\n",
       "        vertical-align: middle;\n",
       "    }\n",
       "\n",
       "    .dataframe tbody tr th {\n",
       "        vertical-align: top;\n",
       "    }\n",
       "\n",
       "    .dataframe thead th {\n",
       "        text-align: right;\n",
       "    }\n",
       "</style>\n",
       "<table border=\"1\" class=\"dataframe\">\n",
       "  <thead>\n",
       "    <tr style=\"text-align: right;\">\n",
       "      <th></th>\n",
       "      <th>人數</th>\n",
       "      <th>出站人數</th>\n",
       "      <th>進站人數</th>\n",
       "    </tr>\n",
       "    <tr>\n",
       "      <th>日期</th>\n",
       "      <th>車站名稱</th>\n",
       "      <th></th>\n",
       "      <th></th>\n",
       "    </tr>\n",
       "  </thead>\n",
       "  <tbody>\n",
       "    <tr>\n",
       "      <th rowspan=\"5\" valign=\"top\">2019</th>\n",
       "      <th>七堵</th>\n",
       "      <td>1560506</td>\n",
       "      <td>1512951</td>\n",
       "    </tr>\n",
       "    <tr>\n",
       "      <th>三坑</th>\n",
       "      <td>347841</td>\n",
       "      <td>342775</td>\n",
       "    </tr>\n",
       "    <tr>\n",
       "      <th>三塊厝</th>\n",
       "      <td>111863</td>\n",
       "      <td>105842</td>\n",
       "    </tr>\n",
       "    <tr>\n",
       "      <th>三姓橋</th>\n",
       "      <td>260777</td>\n",
       "      <td>288098</td>\n",
       "    </tr>\n",
       "    <tr>\n",
       "      <th>三民</th>\n",
       "      <td>2994</td>\n",
       "      <td>2435</td>\n",
       "    </tr>\n",
       "    <tr>\n",
       "      <th>...</th>\n",
       "      <th>...</th>\n",
       "      <td>...</td>\n",
       "      <td>...</td>\n",
       "    </tr>\n",
       "    <tr>\n",
       "      <th rowspan=\"5\" valign=\"top\">2023</th>\n",
       "      <th>鼓山</th>\n",
       "      <td>168011</td>\n",
       "      <td>165055</td>\n",
       "    </tr>\n",
       "    <tr>\n",
       "      <th>龍井</th>\n",
       "      <td>157385</td>\n",
       "      <td>155439</td>\n",
       "    </tr>\n",
       "    <tr>\n",
       "      <th>龍泉</th>\n",
       "      <td>8246</td>\n",
       "      <td>6263</td>\n",
       "    </tr>\n",
       "    <tr>\n",
       "      <th>龍港</th>\n",
       "      <td>9633</td>\n",
       "      <td>8662</td>\n",
       "    </tr>\n",
       "    <tr>\n",
       "      <th>龜山</th>\n",
       "      <td>29613</td>\n",
       "      <td>29966</td>\n",
       "    </tr>\n",
       "  </tbody>\n",
       "</table>\n",
       "<p>1198 rows × 2 columns</p>\n",
       "</div>"
      ],
      "text/plain": [
       "人數            出站人數     進站人數\n",
       "日期   車站名稱                  \n",
       "2019 七堵    1560506  1512951\n",
       "     三坑     347841   342775\n",
       "     三塊厝    111863   105842\n",
       "     三姓橋    260777   288098\n",
       "     三民       2994     2435\n",
       "...            ...      ...\n",
       "2023 鼓山     168011   165055\n",
       "     龍井     157385   155439\n",
       "     龍泉       8246     6263\n",
       "     龍港       9633     8662\n",
       "     龜山      29613    29966\n",
       "\n",
       "[1198 rows x 2 columns]"
      ]
     },
     "execution_count": 8,
     "metadata": {},
     "output_type": "execute_result"
    }
   ],
   "source": [
    "df3.columns = ['日期','車站名稱','人數','數量']\n",
    "df3['數量'].groupby(by=[yaer_series,df3['車站名稱'],df3['人數']]).sum().unstack(level='人數')"
   ]
  }
 ],
 "metadata": {
  "kernelspec": {
   "display_name": "Python 3",
   "language": "python",
   "name": "python3"
  },
  "language_info": {
   "codemirror_mode": {
    "name": "ipython",
    "version": 3
   },
   "file_extension": ".py",
   "mimetype": "text/x-python",
   "name": "python",
   "nbconvert_exporter": "python",
   "pygments_lexer": "ipython3",
   "version": "3.10.14"
  }
 },
 "nbformat": 4,
 "nbformat_minor": 2
}
