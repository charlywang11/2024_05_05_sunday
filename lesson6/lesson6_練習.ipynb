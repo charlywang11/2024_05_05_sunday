{
 "cells": [
  {
   "cell_type": "code",
   "execution_count": 1,
   "metadata": {},
   "outputs": [
    {
     "name": "stdout",
     "output_type": "stream",
     "text": [
      "請輸入整數,求所有公因數:10\n"
     ]
    }
   ],
   "source": [
    "#輸入\n",
    "#請輸入整數,求所有公因數:10\n",
    "\n",
    "#輸出\n",
    "#因數有:1,2,5,10\n",
    "\n",
    "import pyinputplus as pypi\n",
    "n = pypi.inputInt(\"請輸入整數,求所有公因數:\",min=0)\n",
    "print(n)\n",
    "\n",
    "for i in range(1,n+1):\n",
    "    \n"
   ]
  }
 ],
 "metadata": {
  "kernelspec": {
   "display_name": "Python 3",
   "language": "python",
   "name": "python3"
  },
  "language_info": {
   "codemirror_mode": {
    "name": "ipython",
    "version": 3
   },
   "file_extension": ".py",
   "mimetype": "text/x-python",
   "name": "python",
   "nbconvert_exporter": "python",
   "pygments_lexer": "ipython3",
   "version": "3.10.14"
  }
 },
 "nbformat": 4,
 "nbformat_minor": 2
}
