{
 "cells": [
  {
   "cell_type": "code",
   "execution_count": null,
   "metadata": {},
   "outputs": [],
   "source": [
    "#練習:計算BMI值\n",
    "\n",
    "#輸入:\n",
    "#請輸入您的姓名:robert\n",
    "#請輸入您的身高(cm):178\n",
    "#請輸入您的體重(kg):76\n",
    "\n",
    "#輸出:\n",
    "#您的姓名是:Robert\n",
    "#您的BMI值:30.5\n",
    "#您的體重:過重\n",
    "\n",
    "name = input(\"請輸入您的姓名\")\n",
    "height = float(input(\"請輸入您的身高(cm)\"))\n",
    "weight = float(input(\"請輸入您的體重(kg)\"))\n",
    "\n",
    "BMI = round(weight / (height/100) **2, ndigits=2)\n",
    "\n",
    "print(f\"您的姓名是:{name}, 身高(cm):{height}, 體重(kg):{weight}\")\n",
    "print(f\"您的BMI值是:{BMI}\")\n",
    "\n",
    "if BMI < 18.5:\n",
    "    state\n"
   ]
  }
 ],
 "metadata": {
  "language_info": {
   "name": "python"
  }
 },
 "nbformat": 4,
 "nbformat_minor": 2
}
