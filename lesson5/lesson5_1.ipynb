{
 "cells": [
  {
   "cell_type": "code",
   "execution_count": null,
   "metadata": {},
   "outputs": [],
   "source": [
    "#學生的總分為300\n",
    "#有些學生可以加分5%\n",
    "#如果加分超過300,就已300分為準\n",
    "#raise Exception()\n",
    "\n",
    "try:\n",
    "    scores = int(input(\"請輸入學生分數(最高分300分)\"))\n",
    "    if scores > 300 or scores < 0:\n",
    "        raise Exception(\"輸入不在範圍內\")\n",
    "    is_add = input(\"學生是否符合加分條件?(y,n)\")\n",
    "    if  is_add == \"y\":\n",
    "        scores *= 1.05\n",
    "        if scores > 300:\n",
    "            scores = 300\n",
    "\n",
    "    print(f\"學生的分數是:{round(scores, ndigits = 0)}\")\n",
    "    \n",
    "    \n",
    "except ValueError:\n",
    "    print(\"格式輸入錯誤\")\n",
    "except Exception as error:\n",
    "    print(error)\n",
    "\n",
    "print(\"應用程式結束\")\n"
   ]
  }
 ],
 "metadata": {
  "language_info": {
   "name": "python"
  }
 },
 "nbformat": 4,
 "nbformat_minor": 2
}
