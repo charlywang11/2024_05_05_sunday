{
 "cells": [
  {
   "cell_type": "code",
   "execution_count": 1,
   "metadata": {},
   "outputs": [
    {
     "name": "stdout",
     "output_type": "stream",
     "text": [
      "您的姓名是:Charly\n",
      "您的BMI值是:19.72\n"
     ]
    }
   ],
   "source": [
    "name = input(\"請輸入您的姓名\")\n",
    "height = float(input(\"請輸入您的身高(cm)\"))\n",
    "weight= float(input(\"請輸入您的體重(kg)\"))\n",
    "BMI = float(weight/(height/100)**2)\n",
    "print(f\"您的姓名是:{name}\")\n",
    "print(f\"您的BMI值是:{round(BMI,ndigits=2)}\")"
   ]
  },
  {
   "cell_type": "code",
   "execution_count": null,
   "metadata": {},
   "outputs": [],
   "source": [
    "#流程的控制\n",
    "#單向 if bool:\n",
    "    #有可能執行，也有可能不執行\n",
    "\n",
    "#雙向 if bool\n",
    "    #   else\n",
    "    #2個程式區塊一定執行一個\n",
    "\n",
    "#多項 if bool\n",
    "    #   elif bool\n",
    "    #   elif bool\n",
    "    #   elif bool\n",
    "    #   else\n",
    "    #一定只執行一個\n"
   ]
  },
  {
   "cell_type": "code",
   "execution_count": null,
   "metadata": {},
   "outputs": [],
   "source": [
    "#2元運算子\n",
    "#bool <- 運算元 < 運算元\n",
    "#true 或 fales"
   ]
  },
  {
   "cell_type": "code",
   "execution_count": 3,
   "metadata": {},
   "outputs": [
    {
     "name": "stdout",
     "output_type": "stream",
     "text": [
      "學生的分數是:299.0\n"
     ]
    }
   ],
   "source": [
    "#學生的總分為300\n",
    "#有些學生可以加分5%\n",
    "\n",
    "scores = int(input(\"請輸入學生分數(最高分300分)\"))\n",
    "is_add = input(\"學生是否符合加分條件?(y,n)\")\n",
    "if is_add == \"y\":\n",
    "    scores *= 1.05\n",
    "\n",
    "print(f\"學生的分數是:{round(scores, ndigits = 0)}\")\n",
    "#                   內建函式 有數值  引述名稱=0\n"
   ]
  },
  {
   "cell_type": "code",
   "execution_count": 5,
   "metadata": {},
   "outputs": [
    {
     "name": "stdout",
     "output_type": "stream",
     "text": [
      "學生的分數是:300\n"
     ]
    }
   ],
   "source": [
    "#學生的總分為300\n",
    "#有些學生可以加分5%\n",
    "\n",
    "scores = int(input(\"請輸入學生分數(最高分300分)\"))\n",
    "is_add = input(\"學生是否符合加分條件?(y,n)\")\n",
    "\n",
    "#巢狀判斷\n",
    "if is_add == \"y\":\n",
    "    scores *= 1.05\n",
    "                            #1個條件成立\n",
    "    if scores > 300:\n",
    "        scores = 300\n",
    "                            #2個條件成立\n",
    "\n",
    "print(f\"學生的分數是:{round(scores, ndigits = 0)}\")\n"
   ]
  },
  {
   "cell_type": "code",
   "execution_count": 11,
   "metadata": {},
   "outputs": [
    {
     "name": "stdout",
     "output_type": "stream",
     "text": [
      "格式錯誤\n",
      "應用程式結束\n"
     ]
    }
   ],
   "source": [
    "#raise Exception(昇起一個例外) -> ValueError -> 沒有處理例外,crash\n",
    "#處理例外(優雅的失敗) -> try, except\n",
    "    #try -> 檢查有raise exception\n",
    "    #except -> exception\n",
    "\n",
    "try:\n",
    "    money = int(input(\"請輸入金額:\"))\n",
    "    print(money)\n",
    "except ValueError:\n",
    "    print(\"格式錯誤\")\n",
    "print(\"應用程式結束\")\n"
   ]
  },
  {
   "cell_type": "code",
   "execution_count": null,
   "metadata": {},
   "outputs": [],
   "source": [
    "try:\n",
    "    money = int(input(\"請輸入金額:\"))\n",
    "    print(money)\n",
    "except ValueError:\n",
    "    print(\"格式錯誤\")\n",
    "except Exception:\n",
    "    print(\"不知名的錯誤\")\n",
    "    #條件嚴謹的優先，寬鬆的放後面\n",
    "    \n",
    "print(\"應用程式結束\")\n"
   ]
  },
  {
   "cell_type": "code",
   "execution_count": 15,
   "metadata": {},
   "outputs": [
    {
     "name": "stdout",
     "output_type": "stream",
     "text": [
      "格式錯誤\n",
      "應用程式結束\n"
     ]
    }
   ],
   "source": [
    "#學生的總分為300\n",
    "#有些學生可以加分5%\n",
    "#如果加分超過300,就已300分為準\n",
    "\n",
    "try:\n",
    "    scores = int(input(\"請輸入學生分數(最高分300分)\"))\n",
    "    is_add = input(\"學生是否符合加分條件?(y,n)\")\n",
    "    if  is_add == \"y\":\n",
    "        scores *= 1.05\n",
    "        if scores > 300:\n",
    "            scores = 300\n",
    "\n",
    "    print(f\"學生的分數是:{round(scores, ndigits = 0)}\")\n",
    "except ValueError:\n",
    "    print(\"格式輸入錯誤\")\n",
    "except Exception:\n",
    "    print(\"不知名的錯誤\")\n",
    "\n",
    "print(\"應用程式結束\")\n"
   ]
  },
  {
   "cell_type": "code",
   "execution_count": null,
   "metadata": {},
   "outputs": [],
   "source": [
    "#2個條件 -> 巢狀判斷 或 邏輯運算子\n",
    "    #巢狀判斷\n",
    "    #邏輯運算子\n",
    "\n",
    "    #邏輯運算子-> and, or, not\n",
    "        #not(一元運算子) -> bool\n",
    "            #Fales <- not True\n",
    "            #True <- not Fales\n",
    "        #and(二元運算子)\n",
    "            #bool(關係運算子) <- bool and bool\n",
    "            #嚴格得到True，同時\n",
    "        #or(二元運算子)\n",
    "            #容易得到True，或者"
   ]
  },
  {
   "cell_type": "code",
   "execution_count": 19,
   "metadata": {},
   "outputs": [
    {
     "name": "stdout",
     "output_type": "stream",
     "text": [
      "格式輸入錯誤\n",
      "應用程式結束\n"
     ]
    }
   ],
   "source": [
    "#學生的總分為300\n",
    "#有些學生可以加分5%\n",
    "#如果加分超過300,就已300分為準\n",
    "try:\n",
    "    scores = int(input(\"請輸入學生分數(最高分300分)\"))\n",
    "    if scores <= 300 and scores >= 0 :\n",
    "        is_add = input(\"學生是否符合加分條件?(y,n)\")\n",
    "        if  is_add == \"y\":\n",
    "            scores *= 1.05\n",
    "            if scores > 300:\n",
    "                scores = 300\n",
    "\n",
    "        print(f\"學生的分數是:{round(scores, ndigits = 0)}\")\n",
    "        \n",
    "    else:\n",
    "        print(\"輸入範圍不正確\")\n",
    "except ValueError:\n",
    "    print(\"格式輸入錯誤\")\n",
    "except Exception:\n",
    "    print(\"不知名的錯誤\")\n",
    "\n",
    "print(\"應用程式結束\")\n"
   ]
  }
 ],
 "metadata": {
  "kernelspec": {
   "display_name": "Python 3",
   "language": "python",
   "name": "python3"
  },
  "language_info": {
   "codemirror_mode": {
    "name": "ipython",
    "version": 3
   },
   "file_extension": ".py",
   "mimetype": "text/x-python",
   "name": "python",
   "nbconvert_exporter": "python",
   "pygments_lexer": "ipython3",
   "version": "3.10.14"
  }
 },
 "nbformat": 4,
 "nbformat_minor": 2
}
