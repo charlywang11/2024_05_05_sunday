import math
radius = float(input("請輸入半徑:"))
area = math.pi * radius ** 2
print(f"半徑:{radius},圓面積是:{round(area,ndigits=2)}")
