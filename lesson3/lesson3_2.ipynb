import math
radius = float(input("請輸入半徑:"))
area = math.pi * radius ** 2
print(f"半徑:{radius},圓面積是:{round(area,ndigits=2)}")

import math
side = 30
another_side = 60

radian = math.asin(side / another_side)
degree = math.degrees(radian)
print(f"對邊:{side},斜邊:{another_side},角度是:{round(degree,ndigits=2)}")