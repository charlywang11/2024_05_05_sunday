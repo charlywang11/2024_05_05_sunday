{
 "cells": [
  {
   "cell_type": "code",
   "execution_count": 26,
   "metadata": {},
   "outputs": [],
   "source": [
    "class Student(object):\n",
    "    def __init__(self,n:str,scores:int):\n",
    "        self.name = n\n",
    "        self.scores = scores\n",
    "\n",
    "    def __repr__(self):\n",
    "        message = \"\"\n",
    "        message += f'我的姓名是{self.name}\\n'\n",
    "        message += f'我的總分是{self.scores}'\n",
    "        return message"
   ]
  },
  {
   "cell_type": "code",
   "execution_count": 27,
   "metadata": {},
   "outputs": [
    {
     "name": "stdout",
     "output_type": "stream",
     "text": [
      "王穎乾\n",
      "279\n",
      "我的姓名是王穎乾\n",
      "我的總分是279\n"
     ]
    }
   ],
   "source": [
    "s1:Student = Student(n=\"王穎乾\",scores=279)\n",
    "print(s1.name)\n",
    "print(s1.scores)\n",
    "print(s1)\n"
   ]
  },
  {
   "cell_type": "code",
   "execution_count": 28,
   "metadata": {},
   "outputs": [],
   "source": [
    "from dataclasses import dataclass\n",
    "\n",
    "#dataclasses會自動建立__init__,__repr__\n",
    "\n",
    "@dataclass\n",
    "class Student():\n",
    "    name:str\n",
    "    scores:int = 0\n",
    "\n"
   ]
  },
  {
   "cell_type": "code",
   "execution_count": 29,
   "metadata": {},
   "outputs": [
    {
     "name": "stdout",
     "output_type": "stream",
     "text": [
      "王穎乾\n",
      "279\n",
      "Student(name='王穎乾', scores=279)\n"
     ]
    }
   ],
   "source": [
    "#使用dataclass\n",
    "s1:Student = Student(name='王穎乾', scores=279)\n",
    "print(s1.name)\n",
    "print(s1.scores)\n",
    "print(s1)\n"
   ]
  },
  {
   "cell_type": "code",
   "execution_count": 30,
   "metadata": {},
   "outputs": [
    {
     "name": "stdout",
     "output_type": "stream",
     "text": [
      "charly\n",
      "0\n",
      "Student(name='charly', scores=0)\n"
     ]
    }
   ],
   "source": [
    "s2:Student = Student(\"charly\")\n",
    "print(s2.name)\n",
    "print(s2.scores)\n",
    "print(s2)"
   ]
  },
  {
   "cell_type": "code",
   "execution_count": null,
   "metadata": {},
   "outputs": [],
   "source": [
    "'''\n",
    "module-pydantic\n",
    "    BaseModel\n",
    "    RootModel\n",
    "'''"
   ]
  },
  {
   "cell_type": "code",
   "execution_count": 31,
   "metadata": {},
   "outputs": [],
   "source": [
    "#pydantic BaseModel\n",
    "from pydantic import BaseModel\n",
    "\n",
    "class Student(BaseModel):\n",
    "    name:str\n",
    "    scores:int = 0"
   ]
  },
  {
   "cell_type": "code",
   "execution_count": 32,
   "metadata": {},
   "outputs": [
    {
     "name": "stdout",
     "output_type": "stream",
     "text": [
      "王穎乾\n",
      "279\n",
      "name='王穎乾' scores=279\n"
     ]
    }
   ],
   "source": [
    "s1:Student = Student(name='王穎乾', scores=279)\n",
    "print(s1.name)\n",
    "print(s1.scores)\n",
    "print(s1)"
   ]
  },
  {
   "cell_type": "code",
   "execution_count": 37,
   "metadata": {},
   "outputs": [
    {
     "name": "stdout",
     "output_type": "stream",
     "text": [
      "charly\n",
      "0\n",
      "name='charly' scores=0\n"
     ]
    }
   ],
   "source": [
    "s2:Student = Student(name=\"charly\")\n",
    "print(s2.name)\n",
    "print(s2.scores)\n",
    "print(s2)"
   ]
  },
  {
   "cell_type": "code",
   "execution_count": 34,
   "metadata": {},
   "outputs": [
    {
     "name": "stdout",
     "output_type": "stream",
     "text": [
      "王穎乾\n",
      "279\n",
      "<class 'int'>\n",
      "name='王穎乾' scores=279\n"
     ]
    }
   ],
   "source": [
    "#依據field的資料類型，自動轉換\n",
    "s3:Student = Student(name=\"王穎乾\", scores=\"279\")\n",
    "print(s3.name)\n",
    "print(s3.scores)\n",
    "print(type(s3.scores))\n",
    "print(s3)"
   ]
  }
 ],
 "metadata": {
  "kernelspec": {
   "display_name": "Python 3",
   "language": "python",
   "name": "python3"
  },
  "language_info": {
   "codemirror_mode": {
    "name": "ipython",
    "version": 3
   },
   "file_extension": ".py",
   "mimetype": "text/x-python",
   "name": "python",
   "nbconvert_exporter": "python",
   "pygments_lexer": "ipython3",
   "version": "3.10.14"
  }
 },
 "nbformat": 4,
 "nbformat_minor": 2
}
