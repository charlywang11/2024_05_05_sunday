{
 "cells": [
  {
   "cell_type": "code",
   "execution_count": null,
   "metadata": {},
   "outputs": [],
   "source": [
    "#請下載台北市youbike及時資料(json),解析資料!\n",
    "\n",
    "#請幫我查出目前可借車輛數為3輛以內的站點\n",
    "#請幫我查出目前可還車輛數為3輛以內的站點\n",
    "#請將維護的站點移除\n",
    "'''\n",
    "請過濾\n",
    "sna(場站中文名稱)\n",
    "sarea(場站區域)\n",
    "mday(資料更新時間)\n",
    "ar(地點)\n",
    "act(全站禁用狀態)\n",
    "total(場站總停車格)\n",
    "available_rent_bikes(場站目前車輛數量)\n",
    "latitude(緯度)\n",
    "longitude(經度)\n",
    "available_return_bikes(空位數量)\n",
    "'''\n",
    "#youbike = 'https://tcgbusfs.blob.core.windows.net/dotapp/youbike/v2/youbike_immediate.json'\n"
   ]
  },
  {
   "cell_type": "code",
   "execution_count": 38,
   "metadata": {},
   "outputs": [
    {
     "ename": "TypeError",
     "evalue": "list indices must be integers or slices, not ModelMetaclass",
     "output_type": "error",
     "traceback": [
      "\u001b[0;31m---------------------------------------------------------------------------\u001b[0m",
      "\u001b[0;31mTypeError\u001b[0m                                 Traceback (most recent call last)",
      "Cell \u001b[0;32mIn[38], line 28\u001b[0m\n\u001b[1;32m     16\u001b[0m     longitude:\u001b[38;5;28mfloat\u001b[39m\n\u001b[1;32m     17\u001b[0m \u001b[38;5;250m    \u001b[39m\u001b[38;5;124;03m'''act:int = Field(alias='全站禁用狀')\u001b[39;00m\n\u001b[1;32m     18\u001b[0m \u001b[38;5;124;03m    資料更新時間:str = Field(alias='mday')\u001b[39;00m\n\u001b[1;32m     19\u001b[0m \u001b[38;5;124;03m    場站中文名稱:str = Field(alias='sna')\u001b[39;00m\n\u001b[0;32m   (...)\u001b[0m\n\u001b[1;32m     25\u001b[0m \u001b[38;5;124;03m    緯度:float = Field(alias='latitude')\u001b[39;00m\n\u001b[1;32m     26\u001b[0m \u001b[38;5;124;03m    經度:float = Field(alias='longitude')'''\u001b[39;00m\n\u001b[0;32m---> 28\u001b[0m \u001b[38;5;28;01mclass\u001b[39;00m \u001b[38;5;21;01mRoot\u001b[39;00m(RootModel):\n\u001b[1;32m     29\u001b[0m     root:\u001b[38;5;28mlist\u001b[39m[Youbike]\n\u001b[1;32m     32\u001b[0m youbike_url \u001b[38;5;241m=\u001b[39m \u001b[38;5;124m'\u001b[39m\u001b[38;5;124mhttps://tcgbusfs.blob.core.windows.net/dotapp/youbike/v2/youbike_immediate.json\u001b[39m\u001b[38;5;124m'\u001b[39m\n",
      "Cell \u001b[0;32mIn[38], line 29\u001b[0m, in \u001b[0;36mRoot\u001b[0;34m()\u001b[0m\n\u001b[1;32m     28\u001b[0m \u001b[38;5;28;01mclass\u001b[39;00m \u001b[38;5;21;01mRoot\u001b[39;00m(RootModel):\n\u001b[0;32m---> 29\u001b[0m     root:\u001b[38;5;28;43mlist\u001b[39;49m\u001b[43m[\u001b[49m\u001b[43mYoubike\u001b[49m\u001b[43m]\u001b[49m\n",
      "\u001b[0;31mTypeError\u001b[0m: list indices must be integers or slices, not ModelMetaclass"
     ]
    }
   ],
   "source": [
    "import json\n",
    "import requests\n",
    "from requests import Response\n",
    "from pydantic import BaseModel,RootModel,Field,ValidationError,field_validator\n",
    "\n",
    "class Youbike(BaseModel):\n",
    "    act:int\n",
    "    mday:str\n",
    "    sna:str\n",
    "    sarea:str\n",
    "    ar:str\n",
    "    total:int\n",
    "    available_rent_bikes:int\n",
    "    available_return_bikes:int\n",
    "    latitude:float\n",
    "    longitude:float\n",
    "    '''\n",
    "    act:int = Field(alias='全站禁用狀')\n",
    "    資料更新時間:str = Field(alias='mday')\n",
    "    場站中文名稱:str = Field(alias='sna')\n",
    "    場站區域:str = Field(alias='sarea')\n",
    "    地點:str = Field(alias='ar')\n",
    "    場站總停車格:int = Field(alias='total')\n",
    "    場站目前車輛數量:int = Field(alias='available_rent_bikes')\n",
    "    空位數量:int = Field(alias='available_return_bikes')\n",
    "    緯度:float = Field(alias='latitude')\n",
    "    經度:float = Field(alias='longitude')\n",
    "    '''\n",
    "   \n",
    "class Root(RootModel):\n",
    "    root:list[Youbike]\n",
    "\n",
    "\n",
    "youbike_url = 'https://tcgbusfs.blob.core.windows.net/dotapp/youbike/v2/youbike_immediate.json'\n",
    "res:Response = requests.get(youbike_url)\n",
    "all_data:dict = res.json()\n",
    "data:Root = Root.model_validate(json.loads(all_data))\n"
   ]
  }
 ],
 "metadata": {
  "kernelspec": {
   "display_name": "Python 3",
   "language": "python",
   "name": "python3"
  },
  "language_info": {
   "codemirror_mode": {
    "name": "ipython",
    "version": 3
   },
   "file_extension": ".py",
   "mimetype": "text/x-python",
   "name": "python",
   "nbconvert_exporter": "python",
   "pygments_lexer": "ipython3",
   "version": "3.10.14"
  }
 },
 "nbformat": 4,
 "nbformat_minor": 2
}
