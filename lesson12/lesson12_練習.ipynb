{
 "cells": [
  {
   "cell_type": "code",
   "execution_count": null,
   "metadata": {},
   "outputs": [],
   "source": [
    "#請幫我查出目前可借車輛數為3輛以內的站點\n",
    "#請幫我查出目前可還車輛數為3輛以內的站點\n",
    "#請將維護的站點移除\n",
    "\n",
    "#youbike = 'https://tcgbusfs.blob.core.windows.net/dotapp/youbike/v2/youbike_immediate.json'\n"
   ]
  }
 ],
 "metadata": {
  "language_info": {
   "name": "python"
  }
 },
 "nbformat": 4,
 "nbformat_minor": 2
}
