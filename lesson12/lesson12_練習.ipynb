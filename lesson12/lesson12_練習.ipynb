{
 "cells": [
  {
   "cell_type": "code",
   "execution_count": null,
   "metadata": {},
   "outputs": [],
   "source": [
    "#請下載台北市youbike及時資料(json),解析資料!\n",
    "\n",
    "#請幫我查出目前可借車輛數為3輛以內的站點\n",
    "#請幫我查出目前可還車輛數為3輛以內的站點\n",
    "#請將維護的站點移除\n",
    "'''\n",
    "請過濾\n",
    "sna(場站中文名稱)\n",
    "sarea(場站區域)\n",
    "mday(資料更新時間)\n",
    "ar(地點)\n",
    "act(全站禁用狀態)\n",
    "total(場站總停車格)\n",
    "available_rent_bikes(場站目前車輛數量)\n",
    "latitude(緯度)\n",
    "longitude(經度)\n",
    "available_return_bikes(空位數量)\n",
    "'''\n",
    "#youbike = 'https://tcgbusfs.blob.core.windows.net/dotapp/youbike/v2/youbike_immediate.json'\n"
   ]
  }
 ],
 "metadata": {
  "kernelspec": {
   "display_name": "Python 3",
   "language": "python",
   "name": "python3"
  },
  "language_info": {
   "codemirror_mode": {
    "name": "ipython",
    "version": 3
   },
   "file_extension": ".py",
   "mimetype": "text/x-python",
   "name": "python",
   "nbconvert_exporter": "python",
   "pygments_lexer": "ipython3",
   "version": "3.10.14"
  }
 },
 "nbformat": 4,
 "nbformat_minor": 2
}
