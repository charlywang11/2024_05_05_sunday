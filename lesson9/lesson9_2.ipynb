{
 "cells": [
  {
   "cell_type": "code",
   "execution_count": null,
   "metadata": {},
   "outputs": [],
   "source": [
    "'''\n",
    "class -> 類別\n",
    "    class -> 給class使用的\n",
    "        classmethod\n",
    "    實體(instance)\n",
    "        attribute\n",
    "        property\n",
    "        實體method\n",
    "'''\n",
    "'''\n",
    "class 腳踏車工廠\n",
    "    腳踏車的實體(instance, object)\n",
    "    腳踏車的實體(instance, object)\n",
    "    腳踏車的實體(instance, object)\n",
    "'''\n",
    "'''\n",
    "class Person\n",
    "    pass\n",
    "    \n",
    "    __init__() -> 初始化\n",
    "\n",
    "    #自訂的____init__(self)\n",
    "        self.attribute=xxx\n",
    "    p1:Person -> Person實體\n",
    "        attribute: 王穎乾\n",
    "    p2:Person -> Person實體\n",
    "        attribute: charly\n",
    "'''"
   ]
  },
  {
   "cell_type": "code",
   "execution_count": 9,
   "metadata": {},
   "outputs": [
    {
     "name": "stdout",
     "output_type": "stream",
     "text": [
      "<class '__main__.Person'>\n",
      "<class '__main__.Person'>\n"
     ]
    }
   ],
   "source": [
    "class Person():\n",
    "    pass\n",
    "\n",
    "p1:Person = Person()\n",
    "print(type(p1))\n",
    "\n",
    "p2:Person = Person()\n",
    "print(type(p2))"
   ]
  },
  {
   "cell_type": "code",
   "execution_count": 11,
   "metadata": {},
   "outputs": [
    {
     "ename": "TypeError",
     "evalue": "Person() takes no arguments",
     "output_type": "error",
     "traceback": [
      "\u001b[0;31m---------------------------------------------------------------------------\u001b[0m",
      "\u001b[0;31mTypeError\u001b[0m                                 Traceback (most recent call last)",
      "Cell \u001b[0;32mIn[11], line 6\u001b[0m\n\u001b[1;32m      3\u001b[0m     \u001b[38;5;28;01mdef\u001b[39;00m \u001b[38;5;21m__int_\u001b[39m(\u001b[38;5;28mself\u001b[39m,n:\u001b[38;5;28mstr\u001b[39m):\n\u001b[1;32m      4\u001b[0m         \u001b[38;5;28mself\u001b[39m\u001b[38;5;241m.\u001b[39mname \u001b[38;5;241m=\u001b[39m n\n\u001b[0;32m----> 6\u001b[0m p1:Person \u001b[38;5;241m=\u001b[39m \u001b[43mPerson\u001b[49m\u001b[43m(\u001b[49m\u001b[38;5;124;43m\"\u001b[39;49m\u001b[38;5;124;43m王穎乾\u001b[39;49m\u001b[38;5;124;43m\"\u001b[39;49m\u001b[43m)\u001b[49m\n\u001b[1;32m      7\u001b[0m \u001b[38;5;28mprint\u001b[39m(p1\u001b[38;5;241m.\u001b[39mname)\n\u001b[1;32m      9\u001b[0m p2:Person \u001b[38;5;241m=\u001b[39m Person(\u001b[38;5;124m\"\u001b[39m\u001b[38;5;124mcharly\u001b[39m\u001b[38;5;124m\"\u001b[39m)\n",
      "\u001b[0;31mTypeError\u001b[0m: Person() takes no arguments"
     ]
    }
   ],
   "source": [
    "#建立實體attribute(屬性)\n",
    "class Person():\n",
    "    def __int_(self,n:str): #自訂的init\n",
    "        self.name = n\n",
    "\n",
    "p1:Person = Person(\"王穎乾\")\n",
    "print(p1.name)\n",
    "\n",
    "p2:Person = Person(\"charly\")\n",
    "print(p2.name)"
   ]
  }
 ],
 "metadata": {
  "kernelspec": {
   "display_name": "Python 3",
   "language": "python",
   "name": "python3"
  },
  "language_info": {
   "codemirror_mode": {
    "name": "ipython",
    "version": 3
   },
   "file_extension": ".py",
   "mimetype": "text/x-python",
   "name": "python",
   "nbconvert_exporter": "python",
   "pygments_lexer": "ipython3",
   "version": "3.10.14"
  }
 },
 "nbformat": 4,
 "nbformat_minor": 2
}
