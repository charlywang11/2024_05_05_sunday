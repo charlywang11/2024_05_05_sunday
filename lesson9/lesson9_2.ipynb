{
 "cells": [
  {
   "cell_type": "code",
   "execution_count": null,
   "metadata": {},
   "outputs": [],
   "source": [
    "'''\n",
    "class -> 類別\n",
    "    class -> 給class使用的\n",
    "        classmethod\n",
    "    實體(instance)\n",
    "        attribute\n",
    "        property\n",
    "        實體method\n",
    "'''\n",
    "'''\n",
    "class 腳踏車工廠\n",
    "    腳踏車的實體(instance, object)\n",
    "    腳踏車的實體(instance, object)\n",
    "    腳踏車的實體(instance, object)\n",
    "'''\n",
    "'''\n",
    "class Person -> 父類別\n",
    "    def __init__(self,n:str): #自訂的init\n",
    "        self.name = n\n",
    "    #自訂的____init__(self)\n",
    "        self.attribute=xxx\n",
    "        \n",
    "    p1:Person -> Person實體\n",
    "        attribute: \"王穎乾\"\n",
    "    p2:Person -> Person實體\n",
    "        attribute: \"charly\"\n",
    "'''\n",
    "'''\n",
    "class Studen -> 子類別\n",
    "    pass\n",
    "    s1:Studet\n",
    "    s1:Studet\n",
    "'''"
   ]
  },
  {
   "cell_type": "code",
   "execution_count": null,
   "metadata": {},
   "outputs": [],
   "source": [
    "class Person():\n",
    "    pass\n",
    "\n",
    "p1:Person = Person()\n",
    "print(type(p1))\n",
    "\n",
    "p2:Person = Person()\n",
    "print(type(p2))"
   ]
  },
  {
   "cell_type": "code",
   "execution_count": 8,
   "metadata": {},
   "outputs": [],
   "source": [
    "#建立實體attribute(屬性)\n",
    "class Person():\n",
    "    def __init__(self,n:str): #自訂的init\n",
    "        self.name = n\n",
    "\n",
    "    def __repr__(self) -> str:\n",
    "        return f'我的名字叫{self.name}'"
   ]
  },
  {
   "cell_type": "code",
   "execution_count": 9,
   "metadata": {},
   "outputs": [
    {
     "name": "stdout",
     "output_type": "stream",
     "text": [
      "王穎乾\n",
      "我的名字叫王穎乾\n",
      "charly\n",
      "我的名字叫charly\n"
     ]
    }
   ],
   "source": [
    "p1:Person = Person(\"王穎乾\")\n",
    "print(p1.name)\n",
    "print(p1)\n",
    "p2:Person = Person(\"charly\")\n",
    "print(p2.name)\n",
    "print(p2)"
   ]
  },
  {
   "cell_type": "code",
   "execution_count": 10,
   "metadata": {},
   "outputs": [],
   "source": [
    "#建立實體attribute(屬性)\n",
    "class Person():\n",
    "    def __init__(self,n:str): #自訂的init\n",
    "        self.name = n\n",
    "\n",
    "    def __repr__(self) -> str:\n",
    "        return f'我的名字叫{self.name}'\n",
    "    \n",
    "#繼承\n",
    "class Student(Person):\n",
    "    pass\n",
    "\n"
   ]
  },
  {
   "cell_type": "code",
   "execution_count": 11,
   "metadata": {},
   "outputs": [
    {
     "name": "stdout",
     "output_type": "stream",
     "text": [
      "<class '__main__.Student'>\n",
      "王穎乾\n",
      "我的名字叫王穎乾\n",
      "<class '__main__.Student'>\n",
      "charly\n",
      "我的名字叫charly\n"
     ]
    }
   ],
   "source": [
    "s1 = Student(n=\"王穎乾\")\n",
    "print(type(s1))\n",
    "print(s1.name)\n",
    "print(s1)\n",
    "\n",
    "s2 = Student(n=\"charly\")\n",
    "print(type(s2))\n",
    "print(s2.name)\n",
    "print(s2)"
   ]
  }
 ],
 "metadata": {
  "kernelspec": {
   "display_name": "Python 3",
   "language": "python",
   "name": "python3"
  },
  "language_info": {
   "codemirror_mode": {
    "name": "ipython",
    "version": 3
   },
   "file_extension": ".py",
   "mimetype": "text/x-python",
   "name": "python",
   "nbconvert_exporter": "python",
   "pygments_lexer": "ipython3",
   "version": "3.10.14"
  }
 },
 "nbformat": 4,
 "nbformat_minor": 2
}
