{
 "cells": [
  {
   "cell_type": "code",
   "execution_count": 38,
   "metadata": {},
   "outputs": [
    {
     "data": {
      "text/plain": [
       "'\\nclass -> 類別\\n    class -> 給class使用的\\n        classmethod\\n    實體(instance)\\n        attribute -> 儲存資料(可讀,可寫)\\n        property -> 只可以讀取資料\\n        實體method -> 實體的功能\\n\\n\\nclass 腳踏車工廠\\n    腳踏車的實體(instance, object)\\n    腳踏車的實體(instance, object)\\n    腳踏車的實體(instance, object)\\n\\n    \\nclass Person -> 父類別\\n    def __init__(self,n:str): #自訂的init\\n        self.name = n\\n    #自訂的____init__(self)\\n        self.attribute=xxx\\n        \\n    p1:Person -> Person實體\\n        attribute: \"王穎乾\"\\n    p2:Person -> Person實體\\n        attribute: \"charly\"\\n\\n\\nclass Studen -> 子類別\\n    def __init__(self,n:str,ch:int,en:int,ma:int):\\n        super().__init__(n) #執行父類別的init\\n        self.chinese = ch\\n        self.english = en\\n        self.math = ma\\n\\n    s1:Studet\\n    s1:Studet\\n'"
      ]
     },
     "execution_count": 38,
     "metadata": {},
     "output_type": "execute_result"
    }
   ],
   "source": [
    "'''\n",
    "class -> 類別\n",
    "    class -> 給class使用的\n",
    "        classmethod\n",
    "    實體(instance)\n",
    "        attribute -> 儲存資料(可讀,可寫)\n",
    "        property -> 只可以讀取資料\n",
    "        實體method -> 實體的功能\n",
    "\n",
    "\n",
    "class 腳踏車工廠\n",
    "    腳踏車的實體(instance, object)\n",
    "    腳踏車的實體(instance, object)\n",
    "    腳踏車的實體(instance, object)\n",
    "\n",
    "    \n",
    "class Person -> 父類別\n",
    "    def __init__(self,n:str): #自訂的init\n",
    "        self.name = n\n",
    "    #自訂的____init__(self)\n",
    "        self.attribute=xxx\n",
    "        \n",
    "    p1:Person -> Person實體\n",
    "        attribute: \"王穎乾\"\n",
    "    p2:Person -> Person實體\n",
    "        attribute: \"charly\"\n",
    "\n",
    "\n",
    "class Studen -> 子類別\n",
    "    def __init__(self,n:str,ch:int,en:int,ma:int):\n",
    "        super().__init__(n) #執行父類別的init\n",
    "        self.chinese = ch\n",
    "        self.english = en\n",
    "        self.math = ma\n",
    "\n",
    "    s1:Studet\n",
    "    s1:Studet\n",
    "'''"
   ]
  },
  {
   "cell_type": "code",
   "execution_count": 39,
   "metadata": {},
   "outputs": [
    {
     "name": "stdout",
     "output_type": "stream",
     "text": [
      "<class '__main__.Person'>\n",
      "<class '__main__.Person'>\n"
     ]
    }
   ],
   "source": [
    "class Person():\n",
    "    pass\n",
    "\n",
    "p1:Person = Person()\n",
    "print(type(p1))\n",
    "\n",
    "p2:Person = Person()\n",
    "print(type(p2))"
   ]
  },
  {
   "cell_type": "code",
   "execution_count": 40,
   "metadata": {},
   "outputs": [],
   "source": [
    "#建立實體attribute(屬性)\n",
    "class Person():\n",
    "    def __init__(self,n:str): #自訂的init\n",
    "        self.name = n\n",
    "\n",
    "    def __repr__(self) -> str:\n",
    "        return f'我的名字叫{self.name}'"
   ]
  },
  {
   "cell_type": "code",
   "execution_count": 41,
   "metadata": {},
   "outputs": [
    {
     "name": "stdout",
     "output_type": "stream",
     "text": [
      "王穎乾\n",
      "我的名字叫王穎乾\n",
      "charly\n",
      "我的名字叫charly\n"
     ]
    }
   ],
   "source": [
    "p1:Person = Person(\"王穎乾\")\n",
    "print(p1.name)\n",
    "print(p1)\n",
    "p2:Person = Person(\"charly\")\n",
    "print(p2.name)\n",
    "print(p2)"
   ]
  },
  {
   "cell_type": "code",
   "execution_count": 42,
   "metadata": {},
   "outputs": [],
   "source": [
    "#建立實體attribute(屬性)\n",
    "class Person():\n",
    "    def __init__(self,n:str): #自訂的init\n",
    "        self.name = n\n",
    "\n",
    "    def __repr__(self) -> str:\n",
    "        return f'我的名字叫{self.name}'\n",
    "    \n",
    "#繼承\n",
    "class Student(Person):\n",
    "    def __init__(self,n:str,ch:int,en:int,ma:int):\n",
    "        super().__init__(n) #執行父類別的init\n",
    "        self.chinese = ch\n",
    "        self.english = en\n",
    "        self.math = ma\n",
    "\n",
    "\n"
   ]
  },
  {
   "cell_type": "code",
   "execution_count": 43,
   "metadata": {},
   "outputs": [
    {
     "name": "stdout",
     "output_type": "stream",
     "text": [
      "<class '__main__.Student'>\n",
      "王穎乾 100 100 100\n",
      "我的名字叫王穎乾\n",
      "<class '__main__.Student'>\n",
      "charly 91 85 95\n",
      "我的名字叫charly\n"
     ]
    }
   ],
   "source": [
    "s1 = Student(n=\"王穎乾\",ch=67,en=96,ma=65)\n",
    "print(type(s1))\n",
    "s1.chinese = 100\n",
    "s1.english = 100\n",
    "s1.math = 100\n",
    "print(s1.name,s1.chinese,s1.english,s1.math)\n",
    "print(s1)\n",
    "\n",
    "s2 = Student(n=\"charly\",ch=91,en=85,ma=95)\n",
    "print(type(s2))\n",
    "print(s2.name,s2.chinese,s2.english,s2.math)\n",
    "print(s2)"
   ]
  },
  {
   "cell_type": "code",
   "execution_count": 44,
   "metadata": {},
   "outputs": [],
   "source": [
    "#建立實體attribute(屬性)\n",
    "class Person():\n",
    "    def __init__(self,n:str): #自訂的init\n",
    "        self.name = n\n",
    "\n",
    "    def __repr__(self) -> str:\n",
    "        return f'我的名字叫{self.name}'\n",
    "    \n",
    "#繼承-不可以更改的property(屬性)\n",
    "class Student(Person):\n",
    "    def __init__(self,n:str,ch:int,en:int,ma:int):\n",
    "        super().__init__(n) #執行父類別的init\n",
    "        self.__chinese = ch\n",
    "        self.__english = en\n",
    "        self.__math = ma\n",
    "    \n",
    "    @property\n",
    "    def chinese(self) -> int:\n",
    "        return self.__chinese\n",
    "    \n",
    "    @property\n",
    "    def english(self) -> int:\n",
    "        return self.__english\n",
    "    \n",
    "    @property\n",
    "    def math(self) -> int:\n",
    "        return self.__math\n",
    "    \n",
    "    def __repr__(self) -> str:\n",
    "        massage:str = super().__repr__()\n",
    "        massage += \"\\n我是一個學生\"\n",
    "        return massage\n",
    "\n"
   ]
  },
  {
   "cell_type": "code",
   "execution_count": 45,
   "metadata": {},
   "outputs": [
    {
     "name": "stdout",
     "output_type": "stream",
     "text": [
      "<class '__main__.Student'>\n",
      "王穎乾 67 96 65\n",
      "我的名字叫王穎乾\n",
      "我是一個學生\n",
      "<class '__main__.Student'>\n",
      "charly 91 85 95\n",
      "我的名字叫charly\n",
      "我是一個學生\n"
     ]
    }
   ],
   "source": [
    "s1 = Student(n=\"王穎乾\",ch=67,en=96,ma=65)\n",
    "print(type(s1))\n",
    "print(s1.name,s1.chinese,s1.english,s1.math)\n",
    "print(s1)\n",
    "\n",
    "s2 = Student(n=\"charly\",ch=91,en=85,ma=95)\n",
    "print(type(s2))\n",
    "print(s2.name,s2.chinese,s2.english,s2.math)\n",
    "print(s2)"
   ]
  },
  {
   "cell_type": "code",
   "execution_count": 46,
   "metadata": {},
   "outputs": [],
   "source": [
    "#建立實體attribute(屬性)\n",
    "class Person():\n",
    "    def __init__(self,n:str): #自訂的init\n",
    "        self.name = n\n",
    "\n",
    "    def __repr__(self) -> str:\n",
    "        return f'我的名字叫{self.name}'\n",
    "    \n",
    "#繼承-實體的mothod()\n",
    "class Student(Person):\n",
    "    def __init__(self,n:str,ch:int,en:int,ma:int):\n",
    "        super().__init__(n) #執行父類別的init\n",
    "        self.__chinese = ch\n",
    "        self.__english = en\n",
    "        self.__math = ma\n",
    "    \n",
    "    @property\n",
    "    def chinese(self) -> int:\n",
    "        return self.__chinese\n",
    "    \n",
    "    @property\n",
    "    def english(self) -> int:\n",
    "        return self.__english\n",
    "    \n",
    "    @property\n",
    "    def math(self) -> int:\n",
    "        return self.__math\n",
    "    \n",
    "    def __repr__(self) -> str:\n",
    "        massage:str = super().__repr__()\n",
    "        massage += \"\\n我是一個學生\"\n",
    "        return massage\n",
    "\n",
    "    def sum(self)->int: #實體的method\n",
    "        return self.chinese + self.english + self.math\n",
    "\n",
    "    def average(self)->float:\n",
    "        return round(self.sum() / 3.0, ndigits=2)\n",
    "\n",
    "\n"
   ]
  },
  {
   "cell_type": "code",
   "execution_count": 47,
   "metadata": {},
   "outputs": [
    {
     "name": "stdout",
     "output_type": "stream",
     "text": [
      "<class '__main__.Student'>\n",
      "王穎乾 67 96 65\n",
      "我的名字叫王穎乾\n",
      "我是一個學生\n",
      "s1的總分是228\n",
      "s1的平均是76.0\n",
      "===============\n",
      "<class '__main__.Student'>\n",
      "charly 91 85 95\n",
      "我的名字叫charly\n",
      "我是一個學生\n",
      "s2的總分是271\n",
      "s2的平均是90.33\n"
     ]
    }
   ],
   "source": [
    "s1 = Student(n=\"王穎乾\",ch=67,en=96,ma=65)\n",
    "print(type(s1))\n",
    "print(s1.name,s1.chinese,s1.english,s1.math)\n",
    "print(s1)\n",
    "print(f\"s1的總分是{s1.sum()}\")\n",
    "print(f\"s1的平均是{s1.average()}\")\n",
    "\n",
    "print(\"===============\")\n",
    "\n",
    "s2 = Student(n=\"charly\",ch=91,en=85,ma=95)\n",
    "print(type(s2))\n",
    "print(s2.name,s2.chinese,s2.english,s2.math)\n",
    "print(s2)\n",
    "print(f\"s2的總分是{s2.sum()}\")\n",
    "print(f\"s2的平均是{s2.average()}\")\n"
   ]
  }
 ],
 "metadata": {
  "kernelspec": {
   "display_name": "Python 3",
   "language": "python",
   "name": "python3"
  },
  "language_info": {
   "codemirror_mode": {
    "name": "ipython",
    "version": 3
   },
   "file_extension": ".py",
   "mimetype": "text/x-python",
   "name": "python",
   "nbconvert_exporter": "python",
   "pygments_lexer": "ipython3",
   "version": "3.10.14"
  }
 },
 "nbformat": 4,
 "nbformat_minor": 2
}
