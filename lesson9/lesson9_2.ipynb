{
 "cells": [
  {
   "cell_type": "code",
   "execution_count": null,
   "metadata": {},
   "outputs": [],
   "source": [
    "'''\n",
    "class -> 類別\n",
    "    class -> 給class使用的\n",
    "        classmethod\n",
    "    實體(instance)\n",
    "        attribute\n",
    "        property\n",
    "        實體method\n",
    "'''\n",
    "'''\n",
    "class 腳踏車工廠\n",
    "    腳踏車的實體(instance, object)\n",
    "    腳踏車的實體(instance, object)\n",
    "    腳踏車的實體(instance, object)\n",
    "'''\n",
    "'''\n",
    "class Person\n",
    "    pass\n",
    "    \n",
    "    __init__() -> 初始化\n",
    "\n",
    "    #自訂的____init__(self)\n",
    "        self.attribute=xxx\n",
    "    p1:Person -> Person實體\n",
    "        attribute: 王穎乾\n",
    "    p2:Person -> Person實體\n",
    "        attribute: charly\n",
    "'''"
   ]
  },
  {
   "cell_type": "code",
   "execution_count": null,
   "metadata": {},
   "outputs": [],
   "source": [
    "class Person():\n",
    "    pass\n",
    "\n",
    "p1:Person = Person()\n",
    "print(type(p1))\n",
    "\n",
    "p2:Person = Person()\n",
    "print(type(p2))"
   ]
  },
  {
   "cell_type": "code",
   "execution_count": 4,
   "metadata": {},
   "outputs": [
    {
     "name": "stdout",
     "output_type": "stream",
     "text": [
      "王穎乾\n",
      "charly\n"
     ]
    }
   ],
   "source": [
    "#建立實體attribute(屬性)\n",
    "class Person():\n",
    "    def __init__(self,n:str): #自訂的init\n",
    "        self.name = n\n",
    "\n",
    "p1:Person = Person(\"王穎乾\")\n",
    "print(p1.name)\n",
    "\n",
    "p2:Person = Person(\"charly\")\n",
    "print(p2.name)"
   ]
  }
 ],
 "metadata": {
  "kernelspec": {
   "display_name": "Python 3",
   "language": "python",
   "name": "python3"
  },
  "language_info": {
   "codemirror_mode": {
    "name": "ipython",
    "version": 3
   },
   "file_extension": ".py",
   "mimetype": "text/x-python",
   "name": "python",
   "nbconvert_exporter": "python",
   "pygments_lexer": "ipython3",
   "version": "3.10.14"
  }
 },
 "nbformat": 4,
 "nbformat_minor": 2
}
