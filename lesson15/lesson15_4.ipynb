{
 "cells": [
  {
   "cell_type": "code",
   "execution_count": 4,
   "metadata": {},
   "outputs": [
    {
     "data": {
      "text/plain": [
       "array([[ 72,  84,  86,  94,  55],\n",
       "       [ 70,  91,  86,  77,  75],\n",
       "       [ 98,  82,  87,  89,  61],\n",
       "       [ 90,  69,  93,  85,  50],\n",
       "       [ 91,  65,  52,  69,  65],\n",
       "       [ 56,  97,  68,  64,  71],\n",
       "       [ 73,  92,  92,  96,  84],\n",
       "       [ 81,  61,  75,  76,  73],\n",
       "       [100,  71,  84,  58,  78],\n",
       "       [100,  81,  62,  58,  66],\n",
       "       [ 72,  94,  75,  90,  59],\n",
       "       [ 98,  64,  75,  99,  94],\n",
       "       [100,  63,  95,  73,  85],\n",
       "       [ 96,  75,  84,  99,  75],\n",
       "       [ 61,  94,  96,  57,  80],\n",
       "       [ 50,  92,  90,  70,  50],\n",
       "       [ 86,  85,  95,  79,  87],\n",
       "       [ 87,  57,  82,  79,  63],\n",
       "       [ 92, 100,  83,  92,  74],\n",
       "       [ 75,  97,  72, 100,  66],\n",
       "       [ 92,  66,  55,  91,  89],\n",
       "       [ 75,  68,  90,  60,  99],\n",
       "       [ 89,  75,  71,  79,  81],\n",
       "       [ 67,  71,  70,  85,  79],\n",
       "       [ 95,  64,  55, 100,  63],\n",
       "       [ 56,  82,  97,  87,  67],\n",
       "       [ 76,  60,  81,  75,  92],\n",
       "       [ 64,  81,  53,  98,  75],\n",
       "       [ 88,  74,  94,  83,  85],\n",
       "       [ 65,  55,  98,  69,  89],\n",
       "       [ 72,  58,  73,  51,  74],\n",
       "       [ 53,  88,  51,  53,  96],\n",
       "       [ 70,  98,  56,  90,  96],\n",
       "       [ 81,  86,  98,  61,  61],\n",
       "       [ 79,  85,  96,  51,  95],\n",
       "       [100,  55,  58, 100, 100],\n",
       "       [100,  60,  63,  84,  87],\n",
       "       [ 83,  61,  84,  53,  68],\n",
       "       [ 66,  88,  75,  72,  80],\n",
       "       [ 56,  77,  82,  83,  78],\n",
       "       [ 98,  53,  72,  72,  68],\n",
       "       [ 64,  54,  70,  99,  92],\n",
       "       [ 79,  56,  54,  89,  79],\n",
       "       [ 91,  57,  98,  68,  98],\n",
       "       [ 72,  91,  95,  96,  75],\n",
       "       [ 66,  56,  97,  63,  88],\n",
       "       [ 64,  91,  61,  88,  72],\n",
       "       [ 57,  61,  62,  51,  91],\n",
       "       [ 80,  62,  63,  70,  94],\n",
       "       [ 95,  99,  72,  53,  58]])"
      ]
     },
     "execution_count": 4,
     "metadata": {},
     "output_type": "execute_result"
    }
   ],
   "source": [
    "import numpy as np\n",
    "students = np.random.randint(50,101,size=(50,5))\n",
    "students"
   ]
  },
  {
   "cell_type": "code",
   "execution_count": 8,
   "metadata": {},
   "outputs": [
    {
     "data": {
      "text/plain": [
       "array([[72, 84, 86, 94, 55],\n",
       "       [70, 91, 86, 77, 75]])"
      ]
     },
     "execution_count": 8,
     "metadata": {},
     "output_type": "execute_result"
    }
   ],
   "source": [
    "students[0,0]\n",
    "students[0:1,:]\n",
    "students[:1] #前一個學生\n",
    "students[:2] #前2個學生\n",
    "students[-5:] #最後5個學生"
   ]
  },
  {
   "cell_type": "code",
   "execution_count": 10,
   "metadata": {},
   "outputs": [
    {
     "data": {
      "text/plain": [
       "array([ 55,  75,  61,  50,  65,  71,  84,  73,  78,  66,  59,  94,  85,\n",
       "        75,  80,  50,  87,  63,  74,  66,  89,  99,  81,  79,  63,  67,\n",
       "        92,  75,  85,  89,  74,  96,  96,  61,  95, 100,  87,  68,  80,\n",
       "        78,  68,  92,  79,  98,  75,  88,  72,  91,  94,  58])"
      ]
     },
     "execution_count": 10,
     "metadata": {},
     "output_type": "execute_result"
    }
   ],
   "source": [
    "students[:,0] #第一科所有分數\n",
    "students[:,-1] #最後一科所有分數"
   ]
  },
  {
   "cell_type": "code",
   "execution_count": 16,
   "metadata": {},
   "outputs": [
    {
     "data": {
      "text/plain": [
       "array([79. , 74.5, 78. , 79. , 78. ])"
      ]
     },
     "execution_count": 16,
     "metadata": {},
     "output_type": "execute_result"
    }
   ],
   "source": [
    "np.sum(students[:1]) #第一個學生總分\n",
    "np.sum(students[:2],axis=1) #前2個學生的總分\n",
    "np.sum(students[:],axis=1) #全班每位學生的總分\n",
    "np.sum(students,axis=1) #全班每位學生的總分\n",
    "np.mean(students,axis=0) #每一科全班的平均\n",
    "np.median(students,axis=0) #每一科全班的中位數"
   ]
  }
 ],
 "metadata": {
  "kernelspec": {
   "display_name": "Python 3",
   "language": "python",
   "name": "python3"
  },
  "language_info": {
   "codemirror_mode": {
    "name": "ipython",
    "version": 3
   },
   "file_extension": ".py",
   "mimetype": "text/x-python",
   "name": "python",
   "nbconvert_exporter": "python",
   "pygments_lexer": "ipython3",
   "version": "3.10.14"
  }
 },
 "nbformat": 4,
 "nbformat_minor": 2
}
