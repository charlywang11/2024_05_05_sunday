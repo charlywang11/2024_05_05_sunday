{
 "cells": [
  {
   "cell_type": "code",
   "execution_count": null,
   "metadata": {},
   "outputs": [],
   "source": [
    "#自訂的function:\n",
    "#def cal_bmi(height:int,weight:int) -> float\n",
    "#def get_status(bmi:float)->str\n",
    "\n",
    "#輸入:\n",
    "#請輸入您的姓名:robert\n",
    "#請輸入您的身高(cm):178\n",
    "#請輸入您的體重(kg):76\n",
    "\n",
    "#輸出:\n",
    "#您的姓名是:Robert\n",
    "#您的BMI值:30.5\n",
    "#您的體重:過重\n",
    "\n",
    "import pyinputplus as pypi\n",
    "\n",
    "name = pypi.inputStr(\"請輸入您的姓名:\")\n",
    "print(name)\n",
    "height = pypi.inputInt(\"請輸入您的身高(cm):\",min=1)\n",
    "print(height)\n",
    "weight = pypi.inputInt(\"請輸入您的體重(kg):\",min=1)\n",
    "print(weight)\n",
    "\n",
    "bmi = weight / (height/100) ** 2\n",
    "\n",
    "if bmi < 18.5:\n",
    "    state = \"過輕\"\n",
    "elif bmi < 24:\n",
    "    state = \"正常\"\n",
    "elif bmi < 27:\n",
    "    state = \"過重\"\n",
    "elif bmi < 30:\n",
    "    state = \"輕度肥胖\"\n",
    "elif bmi < 35:\n",
    "    state = \"中度肥胖\"\n",
    "else:\n",
    "    state = \"重度肥胖\"\n",
    "\n",
    "print(\"------------\")\n",
    "print(f\"您的姓名是:{name}\")\n",
    "print(f\"您的BMI值:{round(bmi, ndigits=2)}\")\n",
    "print(f\"您的體重:{state}\")\n"
   ]
  }
 ],
 "metadata": {
  "language_info": {
   "name": "python"
  }
 },
 "nbformat": 4,
 "nbformat_minor": 2
}
