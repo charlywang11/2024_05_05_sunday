{
 "cells": [
  {
   "cell_type": "code",
   "execution_count": 18,
   "metadata": {},
   "outputs": [
    {
     "name": "stdout",
     "output_type": "stream",
     "text": [
      "請輸入您的姓名:charly\n",
      "請輸入您的身高(cm):170\n",
      "請輸入您的體重(kg):57\n",
      "======================\n",
      "您的姓名是:charly\n",
      "您的BMI值:19.72\n",
      "您的體重:正常\n"
     ]
    }
   ],
   "source": [
    "#自訂的function:\n",
    "#def cal_bmi(height:int,weight:int) -> float\n",
    "#def get_status(bmi:float)->str\n",
    "\n",
    "#輸入:\n",
    "#請輸入您的姓名:robert\n",
    "#請輸入您的身高(cm):178\n",
    "#請輸入您的體重(kg):76\n",
    "\n",
    "#輸出:\n",
    "#您的姓名是:Robert\n",
    "#您的BMI值:30.5\n",
    "#您的體重:過重\n",
    "\n",
    "\n",
    "def cal_bmi(height:int,weight:int) -> float:\n",
    "    bmi = weight / (height/100) ** 2\n",
    "    return bmi\n",
    "\n",
    "def get_status(bmi:float)->str:\n",
    "    if bmi < 18.5:\n",
    "        status = \"過輕\"\n",
    "    elif bmi < 24:\n",
    "        status = \"正常\"\n",
    "    elif bmi < 27:\n",
    "        status = \"過重\"\n",
    "    elif bmi < 30:\n",
    "        status = \"輕度肥胖\"\n",
    "    elif bmi < 35:\n",
    "        status = \"中度肥胖\"\n",
    "    else:\n",
    "        status = \"重度肥胖\"\n",
    "    return status\n",
    "\n",
    "import pyinputplus as pypi\n",
    "\n",
    "name = pypi.inputStr(\"請輸入您的姓名:\")\n",
    "print(name)\n",
    "height = pypi.inputInt(\"請輸入您的身高(cm):\",min=1)\n",
    "print(height)\n",
    "weight = pypi.inputInt(\"請輸入您的體重(kg):\",min=1)\n",
    "print(weight)\n",
    "\n",
    "bmi = cal_bmi(height,weight)\n",
    "status = get_status(bmi)\n",
    "\n",
    "print(\"======================\")\n",
    "print(f\"您的姓名是:{name}\")\n",
    "print(f\"您的BMI值:{round(bmi, ndigits=2)}\")\n",
    "print(f\"您的體重:{status}\")"
   ]
  }
 ],
 "metadata": {
  "kernelspec": {
   "display_name": "Python 3",
   "language": "python",
   "name": "python3"
  },
  "language_info": {
   "codemirror_mode": {
    "name": "ipython",
    "version": 3
   },
   "file_extension": ".py",
   "mimetype": "text/x-python",
   "name": "python",
   "nbconvert_exporter": "python",
   "pygments_lexer": "ipython3",
   "version": "3.10.14"
  }
 },
 "nbformat": 4,
 "nbformat_minor": 2
}
