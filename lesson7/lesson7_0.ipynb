{
 "cells": [
  {
   "cell_type": "code",
   "execution_count": 1,
   "metadata": {},
   "outputs": [
    {
     "name": "stdout",
     "output_type": "stream",
     "text": [
      "請輸入查詢數值: 10\n",
      "10的因數: 1 2 5 10 \n",
      "程式結束\n"
     ]
    }
   ],
   "source": [
    "import pyinputplus as pypi\n",
    "\n",
    "mun = pypi.inputInt(\"請輸入查詢數值: \", min=1)\n",
    "print(mun)\n",
    "\n",
    "print(f\"{mun}的因數: \",end='')\n",
    "for i in range(1, mun+1):\n",
    "    u = mun % i\n",
    "    if u==0:\n",
    "        print(i , end=' ')\n",
    "\n",
    "print()\n",
    "\n",
    "print(\"程式結束\")"
   ]
  },
  {
   "cell_type": "code",
   "execution_count": null,
   "metadata": {},
   "outputs": [],
   "source": [
    "#序列資料  <- ranger(1, mu)\n",
    "#序列類型  <- \n",
    "#09:40"
   ]
  },
  {
   "cell_type": "code",
   "execution_count": 2,
   "metadata": {},
   "outputs": [
    {
     "name": "stdout",
     "output_type": "stream",
     "text": [
      "H\n",
      "e\n",
      "l\n",
      "l\n",
      "o\n",
      "!\n"
     ]
    }
   ],
   "source": [
    "for world in \"Hello!\":\n",
    "    print(world)"
   ]
  },
  {
   "cell_type": "code",
   "execution_count": null,
   "metadata": {},
   "outputs": [],
   "source": [
    "#流程控制\n",
    "    #while True:\n",
    "        #break  -> 跳出迴圈\n",
    "    #while boolean:\n",
    "        #cotiune -> 從頭開始繼續迴圈"
   ]
  }
 ],
 "metadata": {
  "kernelspec": {
   "display_name": "Python 3",
   "language": "python",
   "name": "python3"
  },
  "language_info": {
   "codemirror_mode": {
    "name": "ipython",
    "version": 3
   },
   "file_extension": ".py",
   "mimetype": "text/x-python",
   "name": "python",
   "nbconvert_exporter": "python",
   "pygments_lexer": "ipython3",
   "version": "3.10.14"
  }
 },
 "nbformat": 4,
 "nbformat_minor": 2
}
